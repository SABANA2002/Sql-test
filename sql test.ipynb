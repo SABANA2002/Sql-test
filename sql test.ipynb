{
 "cells": [
  {
   "cell_type": "markdown",
   "id": "54dd6340",
   "metadata": {},
   "source": [
    "2)"
   ]
  },
  {
   "cell_type": "code",
   "execution_count": null,
   "id": "5ce2c8bc",
   "metadata": {},
   "outputs": [],
   "source": [
    "SELECT ord_no, purch_amt, ord_date, salesman_id \n",
    "FROM orders \n",
    "WHERE salesman_id IN(SELECT salesman_id FROM salesman WHERE commision = (SELECT MAX(commision) FROM salesman));"
   ]
  },
  {
   "cell_type": "code",
   "execution_count": null,
   "id": "cc37ea4a",
   "metadata": {},
   "outputs": [],
   "source": [
    "3)"
   ]
  },
  {
   "cell_type": "code",
   "execution_count": null,
   "id": "4aff8479",
   "metadata": {},
   "outputs": [],
   "source": [
    "SELECT ord_no, purch_amt, ord_date, salesman_id  FROM orders WHERE salesman_id IN (SELECT salesman_id FROM salesman WHERE city = 'Nagpur');"
   ]
  },
  {
   "cell_type": "code",
   "execution_count": null,
   "id": "5e0ed006",
   "metadata": {},
   "outputs": [],
   "source": [
    "6)"
   ]
  },
  {
   "cell_type": "code",
   "execution_count": null,
   "id": "5dcc7a95",
   "metadata": {},
   "outputs": [],
   "source": [
    "SELECT purch_amt FROM Orders BY purch_amt DESC LIMIT N-1, 1"
   ]
  },
  {
   "cell_type": "code",
   "execution_count": null,
   "id": "84960c73",
   "metadata": {},
   "outputs": [],
   "source": [
    "7)"
   ]
  },
  {
   "cell_type": "code",
   "execution_count": null,
   "id": "c6ba476b",
   "metadata": {},
   "outputs": [],
   "source": [
    "ENTITIES-customer_name,customer_id,Account_Number,Account_status,Account_type,Balance_amount,Transaction_amount,Transcation_channel,Transaction_Date,purch_amt"
   ]
  },
  {
   "cell_type": "code",
   "execution_count": null,
   "id": "2828333d",
   "metadata": {},
   "outputs": [],
   "source": [
    "8)"
   ]
  },
  {
   "cell_type": "code",
   "execution_count": null,
   "id": "93fa3bcb",
   "metadata": {},
   "outputs": [],
   "source": [
    "Select Customer_id , Account_Number,\n",
    "Case when ifnull(Balance_amount,0) = 0 then Transaction_amount else Balance_amount end  as Balance_amount\n",
    "from Bank_Account_Details   \n",
    "inner join\n",
    "BANK_ACCOUNT_TRANSACTION\n",
    "on Account_Number = Account_Number\n",
    "and Account_type = \"Credit Card\";"
   ]
  },
  {
   "cell_type": "code",
   "execution_count": null,
   "id": "d49abb87",
   "metadata": {},
   "outputs": [],
   "source": [
    "9)"
   ]
  },
  {
   "cell_type": "code",
   "execution_count": null,
   "id": "13762c94",
   "metadata": {},
   "outputs": [],
   "source": [
    "Select\n",
    "Account_Number, Balance_amount, Transaction_amount, Transaction_Date\n",
    "from Bank_Account_Details \n",
    "inner join\n",
    "BANK_ACCOUNT_TRANSACTION\n",
    "on Account_Number = Account_Number\n",
    "And ( Transaction_Date between \"2020-03-01\" and \"2020-04-30\");"
   ]
  },
  {
   "cell_type": "code",
   "execution_count": null,
   "id": "6fbc6f82",
   "metadata": {},
   "outputs": [],
   "source": [
    "10)"
   ]
  },
  {
   "cell_type": "code",
   "execution_count": null,
   "id": "0970f74c",
   "metadata": {},
   "outputs": [],
   "source": [
    "Select\n",
    "Customer_id,Account_Number, Balance_amount, Transaction_amount, Transaction_Date\n",
    "from Bank_Account_Details \n",
    "Left join BANK_ACCOUNT_TRANSACTION\n",
    "on Account_Number = Account_Number\n",
    "And NOT ( date_format(Transaction_Date , '%Y-%m') = \"2020-03\" );"
   ]
  }
 ],
 "metadata": {
  "kernelspec": {
   "display_name": "Python 3 (ipykernel)",
   "language": "python",
   "name": "python3"
  },
  "language_info": {
   "codemirror_mode": {
    "name": "ipython",
    "version": 3
   },
   "file_extension": ".py",
   "mimetype": "text/x-python",
   "name": "python",
   "nbconvert_exporter": "python",
   "pygments_lexer": "ipython3",
   "version": "3.9.7"
  }
 },
 "nbformat": 4,
 "nbformat_minor": 5
}
